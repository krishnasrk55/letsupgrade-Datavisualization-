{
 "cells": [
  {
   "cell_type": "markdown",
   "id": "8208ef79",
   "metadata": {},
   "source": [
    "## Create a dataframe with 10 rows on random numbers and 4 columns, (columns labelled as a,b,c,d) and plot a bar chart."
   ]
  },
  {
   "cell_type": "code",
   "execution_count": 4,
   "id": "63175def",
   "metadata": {},
   "outputs": [],
   "source": [
    "import pandas as pd\n",
    "import random \n",
    "import matplotlib.pyplot as plt\n",
    "import numpy as np"
   ]
  },
  {
   "cell_type": "code",
   "execution_count": 5,
   "id": "1f3532ab",
   "metadata": {},
   "outputs": [],
   "source": [
    "x = np.random.randn(10,4)"
   ]
  },
  {
   "cell_type": "code",
   "execution_count": 9,
   "id": "737401a4",
   "metadata": {},
   "outputs": [],
   "source": [
    "df = pd.DataFrame(x,columns = [\"a\",\"b\",\"c\",\"d\"])"
   ]
  },
  {
   "cell_type": "code",
   "execution_count": 10,
   "id": "70ae55cb",
   "metadata": {},
   "outputs": [
    {
     "data": {
      "text/html": [
       "<div>\n",
       "<style scoped>\n",
       "    .dataframe tbody tr th:only-of-type {\n",
       "        vertical-align: middle;\n",
       "    }\n",
       "\n",
       "    .dataframe tbody tr th {\n",
       "        vertical-align: top;\n",
       "    }\n",
       "\n",
       "    .dataframe thead th {\n",
       "        text-align: right;\n",
       "    }\n",
       "</style>\n",
       "<table border=\"1\" class=\"dataframe\">\n",
       "  <thead>\n",
       "    <tr style=\"text-align: right;\">\n",
       "      <th></th>\n",
       "      <th>a</th>\n",
       "      <th>b</th>\n",
       "      <th>c</th>\n",
       "      <th>d</th>\n",
       "    </tr>\n",
       "  </thead>\n",
       "  <tbody>\n",
       "    <tr>\n",
       "      <th>0</th>\n",
       "      <td>-0.501412</td>\n",
       "      <td>2.336785</td>\n",
       "      <td>0.784460</td>\n",
       "      <td>0.892537</td>\n",
       "    </tr>\n",
       "    <tr>\n",
       "      <th>1</th>\n",
       "      <td>-1.589985</td>\n",
       "      <td>-1.564574</td>\n",
       "      <td>-1.226701</td>\n",
       "      <td>2.585623</td>\n",
       "    </tr>\n",
       "    <tr>\n",
       "      <th>2</th>\n",
       "      <td>-2.470768</td>\n",
       "      <td>0.384679</td>\n",
       "      <td>0.555005</td>\n",
       "      <td>0.828718</td>\n",
       "    </tr>\n",
       "    <tr>\n",
       "      <th>3</th>\n",
       "      <td>-0.622868</td>\n",
       "      <td>0.819905</td>\n",
       "      <td>1.518577</td>\n",
       "      <td>-0.847140</td>\n",
       "    </tr>\n",
       "    <tr>\n",
       "      <th>4</th>\n",
       "      <td>0.051327</td>\n",
       "      <td>1.183300</td>\n",
       "      <td>-0.428213</td>\n",
       "      <td>-0.219561</td>\n",
       "    </tr>\n",
       "    <tr>\n",
       "      <th>5</th>\n",
       "      <td>-1.476274</td>\n",
       "      <td>0.196055</td>\n",
       "      <td>0.467406</td>\n",
       "      <td>-1.300501</td>\n",
       "    </tr>\n",
       "    <tr>\n",
       "      <th>6</th>\n",
       "      <td>1.023917</td>\n",
       "      <td>-0.494940</td>\n",
       "      <td>-1.374201</td>\n",
       "      <td>-1.386089</td>\n",
       "    </tr>\n",
       "    <tr>\n",
       "      <th>7</th>\n",
       "      <td>-0.521234</td>\n",
       "      <td>-0.885985</td>\n",
       "      <td>-0.464068</td>\n",
       "      <td>-1.036345</td>\n",
       "    </tr>\n",
       "    <tr>\n",
       "      <th>8</th>\n",
       "      <td>0.311415</td>\n",
       "      <td>1.204509</td>\n",
       "      <td>0.609699</td>\n",
       "      <td>-0.613263</td>\n",
       "    </tr>\n",
       "    <tr>\n",
       "      <th>9</th>\n",
       "      <td>0.681052</td>\n",
       "      <td>-1.272811</td>\n",
       "      <td>-0.172400</td>\n",
       "      <td>-0.244293</td>\n",
       "    </tr>\n",
       "  </tbody>\n",
       "</table>\n",
       "</div>"
      ],
      "text/plain": [
       "          a         b         c         d\n",
       "0 -0.501412  2.336785  0.784460  0.892537\n",
       "1 -1.589985 -1.564574 -1.226701  2.585623\n",
       "2 -2.470768  0.384679  0.555005  0.828718\n",
       "3 -0.622868  0.819905  1.518577 -0.847140\n",
       "4  0.051327  1.183300 -0.428213 -0.219561\n",
       "5 -1.476274  0.196055  0.467406 -1.300501\n",
       "6  1.023917 -0.494940 -1.374201 -1.386089\n",
       "7 -0.521234 -0.885985 -0.464068 -1.036345\n",
       "8  0.311415  1.204509  0.609699 -0.613263\n",
       "9  0.681052 -1.272811 -0.172400 -0.244293"
      ]
     },
     "execution_count": 10,
     "metadata": {},
     "output_type": "execute_result"
    }
   ],
   "source": [
    "df"
   ]
  },
  {
   "cell_type": "code",
   "execution_count": 16,
   "id": "18835302",
   "metadata": {},
   "outputs": [
    {
     "data": {
      "text/plain": [
       "<AxesSubplot:>"
      ]
     },
     "execution_count": 16,
     "metadata": {},
     "output_type": "execute_result"
    },
    {
     "data": {
      "image/png": "[encoded data removed]",
      "text/plain": [
       "<Figure size 1080x1080 with 1 Axes>"
      ]
     },
     "metadata": {
      "needs_background": "light"
     },
     "output_type": "display_data"
    }
   ],
   "source": [
    "df.plot(kind = \"bar\",figsize = (15,15))"
   ]
  },
  {
   "cell_type": "code",
   "execution_count": null,
   "id": "ee3a3b5c",
   "metadata": {},
   "outputs": [],
   "source": []
  }
 ],
 "metadata": {
  "kernelspec": {
   "display_name": "Python 3",
   "language": "python",
   "name": "python3"
  },
  "language_info": {
   "codemirror_mode": {
    "name": "ipython",
    "version": 3
   },
   "file_extension": ".py",
   "mimetype": "text/x-python",
   "name": "python",
   "nbconvert_exporter": "python",
   "pygments_lexer": "ipython3",
   "version": "3.8.10"
  }
 },
 "nbformat": 4,
 "nbformat_minor": 5
}
